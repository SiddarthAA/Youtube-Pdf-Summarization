{
 "cells": [
  {
   "cell_type": "code",
   "execution_count": 2,
   "metadata": {},
   "outputs": [
    {
     "name": "stderr",
     "output_type": "stream",
     "text": [
      "[nltk_data] Downloading package punkt to\n",
      "[nltk_data]     C:\\Users\\siddu\\AppData\\Roaming\\nltk_data...\n",
      "[nltk_data]   Package punkt is already up-to-date!\n"
     ]
    },
    {
     "name": "stdout",
     "output_type": "stream",
     "text": [
      "Sentences successfully written to Extract_Content.txt\n",
      "Full transcript successfully written to Extract_Transcript.txt\n"
     ]
    }
   ],
   "source": [
    "from youtube_transcript_api import YouTubeTranscriptApi\n",
    "import nltk\n",
    "from nltk.tokenize import sent_tokenize\n",
    "import fitz\n",
    "import re\n",
    "\n",
    "def write_sentences_to_file(sentences, filename=\"Extract_Content.txt\"):\n",
    "    try:\n",
    "        with open(filename, 'w+') as file:\n",
    "            for sentence in sentences:\n",
    "                file.write(sentence + \"\\n\")\n",
    "        print(f\"Sentences successfully written to {filename}\")\n",
    "    except Exception as e:\n",
    "        print(f\"An error occurred while writing to the file: {e}\")\n",
    "\n",
    "def write_full_transcript_to_file(transcript_data, filename=\"Extract_Transcript.txt\"):\n",
    "    try:\n",
    "        with open(filename, 'w+') as file:\n",
    "            for item in transcript_data:\n",
    "                start_time = item['start']\n",
    "                duration = item['duration']\n",
    "                end_time = start_time + duration\n",
    "                text = item['text'].replace(\"\\n\", \" \")\n",
    "                file.write(f\"[{start_time:.2f} - {end_time:.2f}] {text}\\n\")\n",
    "        print(f\"Full transcript successfully written to {filename}\")\n",
    "    except Exception as e:\n",
    "        print(f\"An error occurred while writing to the file: {e}\")\n",
    "\n",
    "def get_youtube_data(video_url):\n",
    "    nltk.download('punkt')\n",
    "    video_id = video_url.split(\"?v=\")[1]\n",
    "\n",
    "    transcript_list = YouTubeTranscriptApi.list_transcripts(video_id)\n",
    "    transcript = transcript_list.find_manually_created_transcript(['en'])\n",
    "    transcript_data = transcript.fetch()        \n",
    "\n",
    "    combined_text = \" \".join([item['text'].replace(\"\\n\", \" \") for item in transcript_data])\n",
    "    sentences = sent_tokenize(combined_text)\n",
    "\n",
    "    write_sentences_to_file(sentences=sentences)\n",
    "    write_full_transcript_to_file(transcript_data=transcript_data)\n",
    "\n",
    "def get_pdf_data(pdf_path=\"Paper.pdf\", output_file_path=\"Extracted_Content_Pdf.txt\"):\n",
    "    pdf_document = fitz.open(pdf_path)\n",
    "    text = \"\"\n",
    "    for page_num in range(pdf_document.page_count):\n",
    "        page = pdf_document[page_num]\n",
    "        page_text = page.get_text()\n",
    "        page_text = re.sub(r'\\n+', ' ', page_text)\n",
    "        page_text = re.sub(r'\\.{2,}', '', page_text)\n",
    "        text += page_text\n",
    "    pdf_document.close()\n",
    "\n",
    "    try:\n",
    "        tmp = text.split(\" \")\n",
    "        indx = tmp.index(\"References\")\n",
    "        text = \" \".join(tmp[:indx])\n",
    "    except: \n",
    "        pass\n",
    "\n",
    "    with open(output_file_path, \"w\", encoding=\"utf-8\") as output_file:\n",
    "        output_file.write(text)\n",
    "\n",
    "#Example Usage\n",
    "# pdf_path = input(\"Enter Path : \")\n",
    "# get_pdf_data(pdf_path=pdf_path)\n",
    "\n",
    "#Example Usage\n",
    "video_url = input(\"Enter URL : \")\n",
    "get_youtube_data(video_url=video_url)"
   ]
  },
  {
   "cell_type": "code",
   "execution_count": null,
   "metadata": {},
   "outputs": [],
   "source": []
  }
 ],
 "metadata": {
  "kernelspec": {
   "display_name": "HF",
   "language": "python",
   "name": "python3"
  },
  "language_info": {
   "codemirror_mode": {
    "name": "ipython",
    "version": 3
   },
   "file_extension": ".py",
   "mimetype": "text/x-python",
   "name": "python",
   "nbconvert_exporter": "python",
   "pygments_lexer": "ipython3",
   "version": "3.11.6"
  }
 },
 "nbformat": 4,
 "nbformat_minor": 2
}
